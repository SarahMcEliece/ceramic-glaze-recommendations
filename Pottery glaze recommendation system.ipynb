{
 "cells": [
  {
   "cell_type": "code",
   "execution_count": 1,
   "id": "dfd46438",
   "metadata": {},
   "outputs": [],
   "source": [
    "import pandas as pd\n",
    "import numpy as np\n",
    "import re\n",
    "\n",
    "import warnings\n",
    "warnings.filterwarnings('ignore')"
   ]
  },
  {
   "cell_type": "markdown",
   "id": "a7490047",
   "metadata": {},
   "source": [
    "# Pottery glaze combination recommendations\n",
    "\n",
    "One part of the process in creating pottery is glazing. A glaze is made largely of silica and aluminum oxide with other chemicals added to change the color and texture. Glazes can be painted/poured/dipped to coat a piece of pottery, then when heated to extremely high tempertatures the glaze creates a glass like coat over the piece. Many potters combine glazes to get different colors and create patterns. Combining glazes greates a chemical reaction when heated that makes the outcome not very predictable. Amaco is a popular commercial glaze company that has a large active community. Specifically, there is a facebook group called [AMACO Cone 5-6 Glaze Forum](https://docs.google.com/spreadsheets/d/1535tmfu3o4mzZges-OJC4llVHRYEM3lRESrZnrSl0og/edit?fbclid=IwAR2o6Et4Z31QqMWJBo_um8mPFM9RXmiEE7aGMOyN9y69aZKDxPQo4Ie7eMs#gid=1385339301) where potters post thier art and succesful glaze combinations. There are ~100 glazes currently being produced by amaco resulting in about ~10k possible combinations of two glazes. Despite this, the same combinations are posted over and over in this facebook group. This creates a relatively sparse matrix of combinations.\n",
    "\n",
    "I have own several amaco glazes and am constantly trying to find new ways to combine them. With this project I want to answer a few questions:\n",
    "- What are the best combinations I can create with my current set of glazes?\n",
    "- Which combinations could be really popular, but almost no examples are posted?\n",
    "- What is the best glaze to pair with my favorite glaze?\n",
    "- If I were to buy a new glaze, which would pair the best with my current set of glazes?\n",
    "\n",
    "I will tackle these questions with two methods:\n",
    "1. Use content filtering and cosine similarity to identify glazes that pair well together\n",
    "2. Use matrix factoriztion to predict the number of likes a combo will get\n",
    "\n",
    "For the entire project, I will use number of 'Likes' as a proxy for the quality of a glaze combo."
   ]
  },
  {
   "cell_type": "markdown",
   "id": "b6692674",
   "metadata": {},
   "source": [
    "## Data preparation\n",
    "Raw text data is messy, and this data is no exception. I'll do a decent amount of data cleaning, but in reality cleaning this data could take as much time as I am willing to give it.\n",
    "\n",
    "The first dataset has info about glaze names which will be used for cleaning the data and creating the recommendtaion matrix.\n",
    "\n",
    "The second dataset is our raw facebook post text. The code for pulling this dataset is included in the github reprository."
   ]
  },
  {
   "cell_type": "code",
   "execution_count": 2,
   "id": "4627d639",
   "metadata": {},
   "outputs": [],
   "source": [
    "#get data\n",
    "name_info = pd.read_csv('Amaco PC Runniness Matrix - Glaze list (A-Z).csv')\n",
    "posts = pd.read_csv('post_raw_data.csv')"
   ]
  },
  {
   "cell_type": "code",
   "execution_count": 3,
   "id": "a656a9b8",
   "metadata": {},
   "outputs": [
    {
     "data": {
      "text/html": [
       "<div>\n",
       "<style scoped>\n",
       "    .dataframe tbody tr th:only-of-type {\n",
       "        vertical-align: middle;\n",
       "    }\n",
       "\n",
       "    .dataframe tbody tr th {\n",
       "        vertical-align: top;\n",
       "    }\n",
       "\n",
       "    .dataframe thead th {\n",
       "        text-align: right;\n",
       "    }\n",
       "</style>\n",
       "<table border=\"1\" class=\"dataframe\">\n",
       "  <thead>\n",
       "    <tr style=\"text-align: right;\">\n",
       "      <th></th>\n",
       "      <th>Unnamed: 0</th>\n",
       "      <th>Text</th>\n",
       "      <th>Likes</th>\n",
       "      <th>Comments</th>\n",
       "      <th>Shares</th>\n",
       "    </tr>\n",
       "  </thead>\n",
       "  <tbody>\n",
       "    <tr>\n",
       "      <th>110942</th>\n",
       "      <td>110942</td>\n",
       "      <td>Thank you for accepting me into this group - I...</td>\n",
       "      <td>0</td>\n",
       "      <td>0</td>\n",
       "      <td>0</td>\n",
       "    </tr>\n",
       "    <tr>\n",
       "      <th>110943</th>\n",
       "      <td>110943</td>\n",
       "      <td>This guideline works really well too. It is wh...</td>\n",
       "      <td>3</td>\n",
       "      <td>0</td>\n",
       "      <td>0</td>\n",
       "    </tr>\n",
       "    <tr>\n",
       "      <th>110944</th>\n",
       "      <td>110944</td>\n",
       "      <td>Deep Olive speckle over midnight blue (also us...</td>\n",
       "      <td>6</td>\n",
       "      <td>1</td>\n",
       "      <td>0</td>\n",
       "    </tr>\n",
       "    <tr>\n",
       "      <th>110945</th>\n",
       "      <td>110945</td>\n",
       "      <td>NaN</td>\n",
       "      <td>2</td>\n",
       "      <td>0</td>\n",
       "      <td>0</td>\n",
       "    </tr>\n",
       "    <tr>\n",
       "      <th>110946</th>\n",
       "      <td>110946</td>\n",
       "      <td>NaN</td>\n",
       "      <td>9</td>\n",
       "      <td>0</td>\n",
       "      <td>0</td>\n",
       "    </tr>\n",
       "  </tbody>\n",
       "</table>\n",
       "</div>"
      ],
      "text/plain": [
       "        Unnamed: 0                                               Text  Likes  \\\n",
       "110942      110942  Thank you for accepting me into this group - I...      0   \n",
       "110943      110943  This guideline works really well too. It is wh...      3   \n",
       "110944      110944  Deep Olive speckle over midnight blue (also us...      6   \n",
       "110945      110945                                                NaN      2   \n",
       "110946      110946                                                NaN      9   \n",
       "\n",
       "        Comments  Shares  \n",
       "110942         0       0  \n",
       "110943         0       0  \n",
       "110944         1       0  \n",
       "110945         0       0  \n",
       "110946         0       0  "
      ]
     },
     "execution_count": 3,
     "metadata": {},
     "output_type": "execute_result"
    }
   ],
   "source": [
    "posts.tail()"
   ]
  },
  {
   "cell_type": "markdown",
   "id": "c42972fe",
   "metadata": {},
   "source": [
    "We see already that there are posts with no text. Not suprising, sometimies people just post pictures."
   ]
  },
  {
   "cell_type": "code",
   "execution_count": 4,
   "id": "94391c5f",
   "metadata": {},
   "outputs": [],
   "source": [
    "#drop missing posts\n",
    "posts.drop_duplicates('Text',inplace=True)\n",
    "posts = posts[~posts['Text'].isnull()].reset_index(drop=True)"
   ]
  },
  {
   "cell_type": "code",
   "execution_count": 5,
   "id": "13b192f5",
   "metadata": {},
   "outputs": [
    {
     "data": {
      "text/html": [
       "<div>\n",
       "<style scoped>\n",
       "    .dataframe tbody tr th:only-of-type {\n",
       "        vertical-align: middle;\n",
       "    }\n",
       "\n",
       "    .dataframe tbody tr th {\n",
       "        vertical-align: top;\n",
       "    }\n",
       "\n",
       "    .dataframe thead th {\n",
       "        text-align: right;\n",
       "    }\n",
       "</style>\n",
       "<table border=\"1\" class=\"dataframe\">\n",
       "  <thead>\n",
       "    <tr style=\"text-align: right;\">\n",
       "      <th></th>\n",
       "      <th>Product\\nPage</th>\n",
       "      <th>Product\\nNum</th>\n",
       "      <th>Name</th>\n",
       "      <th>Other Common Name(s)</th>\n",
       "      <th>Comment(s)</th>\n",
       "      <th>Video URL(s)</th>\n",
       "      <th>Dinnerware\\nSafe</th>\n",
       "    </tr>\n",
       "  </thead>\n",
       "  <tbody>\n",
       "    <tr>\n",
       "      <th>0</th>\n",
       "      <td>Detail</td>\n",
       "      <td>PC-32</td>\n",
       "      <td>Albany Slip Brown</td>\n",
       "      <td>\"ASB\"</td>\n",
       "      <td>NaN</td>\n",
       "      <td>1) w/Chai Gloss Shino:  https://www.facebook.c...</td>\n",
       "      <td>yes</td>\n",
       "    </tr>\n",
       "    <tr>\n",
       "      <th>1</th>\n",
       "      <td>Detail</td>\n",
       "      <td>PC-56</td>\n",
       "      <td>Ancient Copper</td>\n",
       "      <td>\"AC\"</td>\n",
       "      <td>Ancient Copper does well when fired hot.  But ...</td>\n",
       "      <td>https://www.facebook.com/groups/potterschoicee...</td>\n",
       "      <td>yes</td>\n",
       "    </tr>\n",
       "    <tr>\n",
       "      <th>2</th>\n",
       "      <td>Detail</td>\n",
       "      <td>PC-53</td>\n",
       "      <td>Ancient Jasper</td>\n",
       "      <td>\"AJ\"; \"Ancient Jaspar\"</td>\n",
       "      <td>NaN</td>\n",
       "      <td>NaN</td>\n",
       "      <td>yes</td>\n",
       "    </tr>\n",
       "    <tr>\n",
       "      <th>3</th>\n",
       "      <td>Detail</td>\n",
       "      <td>PC-21</td>\n",
       "      <td>Arctic Blue</td>\n",
       "      <td>\"AB\"; \"Artic Blue\"</td>\n",
       "      <td>NaN</td>\n",
       "      <td>NaN</td>\n",
       "      <td>yes</td>\n",
       "    </tr>\n",
       "    <tr>\n",
       "      <th>4</th>\n",
       "      <td>Detail</td>\n",
       "      <td>PC-48</td>\n",
       "      <td>Art Deco Green</td>\n",
       "      <td>\"ADG\"; \"Art Deco\"</td>\n",
       "      <td>NaN</td>\n",
       "      <td>NaN</td>\n",
       "      <td>yes</td>\n",
       "    </tr>\n",
       "  </tbody>\n",
       "</table>\n",
       "</div>"
      ],
      "text/plain": [
       "  Product\\nPage Product\\nNum               Name    Other Common Name(s)  \\\n",
       "0        Detail        PC-32  Albany Slip Brown                   \"ASB\"   \n",
       "1        Detail        PC-56     Ancient Copper                    \"AC\"   \n",
       "2        Detail        PC-53     Ancient Jasper  \"AJ\"; \"Ancient Jaspar\"   \n",
       "3        Detail        PC-21        Arctic Blue      \"AB\"; \"Artic Blue\"   \n",
       "4        Detail        PC-48     Art Deco Green       \"ADG\"; \"Art Deco\"   \n",
       "\n",
       "                                          Comment(s)  \\\n",
       "0                                                NaN   \n",
       "1  Ancient Copper does well when fired hot.  But ...   \n",
       "2                                                NaN   \n",
       "3                                                NaN   \n",
       "4                                                NaN   \n",
       "\n",
       "                                        Video URL(s) Dinnerware\\nSafe  \n",
       "0  1) w/Chai Gloss Shino:  https://www.facebook.c...              yes  \n",
       "1  https://www.facebook.com/groups/potterschoicee...              yes  \n",
       "2                                                NaN              yes  \n",
       "3                                                NaN              yes  \n",
       "4                                                NaN              yes  "
      ]
     },
     "execution_count": 5,
     "metadata": {},
     "output_type": "execute_result"
    }
   ],
   "source": [
    "name_info.head()"
   ]
  },
  {
   "cell_type": "markdown",
   "id": "bd6763e5",
   "metadata": {},
   "source": [
    "From this dataset I only care about the product number, name, and other commone names. I'll need to process the other names column to make it useful."
   ]
  },
  {
   "cell_type": "code",
   "execution_count": 6,
   "id": "1b1be9ea",
   "metadata": {},
   "outputs": [],
   "source": [
    "#Glazes are often called by many different names, I have a starting list for alt names, but I'll do some word frequency analysis to also check\n",
    "name_info = name_info[['Product\\nNum','Name','Other Common Name(s)']].rename({'Product\\nNum':'prodId','Name':'name','Other Common Name(s)':'alt_name'}, axis='columns')"
   ]
  },
  {
   "cell_type": "code",
   "execution_count": 7,
   "id": "ff63d530",
   "metadata": {},
   "outputs": [],
   "source": [
    "name_info['alt_name'] = name_info['alt_name'].str.replace('\"', '')"
   ]
  },
  {
   "cell_type": "code",
   "execution_count": 8,
   "id": "daf0a3c7",
   "metadata": {},
   "outputs": [],
   "source": [
    "name_info = name_info.set_index(['prodId','name'])"
   ]
  },
  {
   "cell_type": "code",
   "execution_count": 9,
   "id": "8007bb60",
   "metadata": {},
   "outputs": [],
   "source": [
    "name_info = name_info['alt_name'].str.split('; ', expand=True).stack().reset_index()\n",
    "name_info.drop('level_2',axis=1,inplace=True)"
   ]
  },
  {
   "cell_type": "markdown",
   "id": "c9c761a4",
   "metadata": {},
   "source": [
    "In addittion to the glaze info I imported, I will also add a long list of the glaze names and product ids"
   ]
  },
  {
   "cell_type": "code",
   "execution_count": 10,
   "id": "c268d303",
   "metadata": {},
   "outputs": [],
   "source": [
    "amaco_glazes = pd.DataFrame({'prodId':['PC-1','PC-10','PC-11','PC-12','PC-15','PC-16','PC-17','PC-2','PC-20','PC-21','PC-22','PC-23','PC-24','PC-25','PC-26','PC-27','PC-28','PC-29','PC-30','PC-31','PC-32','PC-33','PC-34','PC-36','PC-38','PC-4','PC-41','PC-42','PC-43','PC-44','PC-45','PC-46','PC-47','PC-48','PC-49','PC-52','PC-53','PC-55','PC-56','PC-57','PC-59','PC-61','PC-62','PC-63','PC-64','PC-67','PC-70','PC-71','PC-9','C-1','C-10','C-11','C-19','C-20','C-21','C-22','C-23','C-25','C-27','C-29','C-3','C-36','C-40','C-41','C-43','C-47','C-49','C-5','C-50','C-53','C-54','C-55','C-56','C-57','C-60','C-65','SM-1','SM-10','SM-11','SM-20','SM-21','SM-27','SM-29','SM-42','SM-51','SM-63','SM-68'],\n",
    "                             'name':['Saturation Metallic','June Bug','Blue Spark','Blue Midnight','Satin Oribe','Purple Crystal','Honey Flux','Saturation Gold','Blue Rutile','Arctic Blue','Blue Stone','Indigo Float','Sapphire Float','Textured Turquoise','Blue Lagoon','Tourmaline','Frosted Turquoise','Deep Olive Speckle','Temmoku','Oatmeal','Albany Slip Brown','Iron Lustre','Light Sepia','Ironstone','Iron Yellow','Palladium','Vert Lustre','Seaweed','Toasted Sage','Sage','Dark Green','Lustrous Jade','Emerald Falls','Art Deco Green','Frosted Melon','Deep Sienna Speckle','Ancient Jasper','Chun Plum','Ancient Copper','Smokey Merlot','Deep Firebrick','Textured Amber','Textured Amber Brown','Cosmic Tea Dust','Aventurine','River Rock','Copper Red','Flambe','Vintage Gold','Obsidian','Snow','Mixing Clear','Glacier','Cobalt','Sky','Fog','Ice','Downpour','Storm','Deep Sea','Smoke','Iron','Aqua','Pear','Wasabi','Jade','Rainforest','Charcoal','Cherry Blossom','Weeping Plum','Snapdragon','Poppy','Lavender','Mulberry','Marigold','Tangelo','Black Satin Matte','Clear Satin Matte','White Satin Matte','Light Blue Satin Matte','Dark Blue Satin Matte','Teal Satin Matte','Blue Green Satin Matte','Mint Satin Matte','Red Satin Matte','Yellow Satin Matte','Orange Satin Matte']})"
   ]
  },
  {
   "cell_type": "code",
   "execution_count": 11,
   "id": "a01f009f",
   "metadata": {},
   "outputs": [],
   "source": [
    "name_info = name_info[~(name_info[0]==\"IF\")]\n",
    "name_info = name_info.append(amaco_glazes,ignore_index=True)"
   ]
  },
  {
   "cell_type": "code",
   "execution_count": 12,
   "id": "fe6fb801",
   "metadata": {},
   "outputs": [
    {
     "data": {
      "text/html": [
       "<div>\n",
       "<style scoped>\n",
       "    .dataframe tbody tr th:only-of-type {\n",
       "        vertical-align: middle;\n",
       "    }\n",
       "\n",
       "    .dataframe tbody tr th {\n",
       "        vertical-align: top;\n",
       "    }\n",
       "\n",
       "    .dataframe thead th {\n",
       "        text-align: right;\n",
       "    }\n",
       "</style>\n",
       "<table border=\"1\" class=\"dataframe\">\n",
       "  <thead>\n",
       "    <tr style=\"text-align: right;\">\n",
       "      <th></th>\n",
       "      <th>prodId</th>\n",
       "      <th>name</th>\n",
       "      <th>0</th>\n",
       "    </tr>\n",
       "  </thead>\n",
       "  <tbody>\n",
       "    <tr>\n",
       "      <th>0</th>\n",
       "      <td>PC-32</td>\n",
       "      <td>Albany Slip Brown</td>\n",
       "      <td>ASB</td>\n",
       "    </tr>\n",
       "    <tr>\n",
       "      <th>1</th>\n",
       "      <td>PC-56</td>\n",
       "      <td>Ancient Copper</td>\n",
       "      <td>AC</td>\n",
       "    </tr>\n",
       "    <tr>\n",
       "      <th>2</th>\n",
       "      <td>PC-53</td>\n",
       "      <td>Ancient Jasper</td>\n",
       "      <td>AJ</td>\n",
       "    </tr>\n",
       "    <tr>\n",
       "      <th>3</th>\n",
       "      <td>PC-53</td>\n",
       "      <td>Ancient Jasper</td>\n",
       "      <td>Ancient Jaspar</td>\n",
       "    </tr>\n",
       "    <tr>\n",
       "      <th>4</th>\n",
       "      <td>PC-21</td>\n",
       "      <td>Arctic Blue</td>\n",
       "      <td>AB</td>\n",
       "    </tr>\n",
       "  </tbody>\n",
       "</table>\n",
       "</div>"
      ],
      "text/plain": [
       "  prodId               name               0\n",
       "0  PC-32  Albany Slip Brown             ASB\n",
       "1  PC-56     Ancient Copper              AC\n",
       "2  PC-53     Ancient Jasper              AJ\n",
       "3  PC-53     Ancient Jasper  Ancient Jaspar\n",
       "4  PC-21        Arctic Blue              AB"
      ]
     },
     "execution_count": 12,
     "metadata": {},
     "output_type": "execute_result"
    }
   ],
   "source": [
    "name_info.head()"
   ]
  },
  {
   "cell_type": "markdown",
   "id": "a488a0eb",
   "metadata": {},
   "source": [
    "Now we need to do text processing. These functions are copied from a project I have completed previously for work. The preprocess function gets rid of punctuation and makes everything lower case. The get_top_n_words creates a corpus for each post and finds the most frequent word combinations of length n. I've found this to be incredibly helpful for identifying content specific stop words."
   ]
  },
  {
   "cell_type": "code",
   "execution_count": 13,
   "id": "096b211a",
   "metadata": {},
   "outputs": [],
   "source": [
    "# Separate posts into corpus, count bigram, trigram occurences\n",
    "from sklearn.feature_extraction.text import CountVectorizer\n",
    "\n",
    "def preprocess(ReviewText):\n",
    "    ReviewText = ReviewText.str.replace(\"’\", \"\")\n",
    "    ReviewText = ReviewText.str.replace(\"'\", \"\")\n",
    "    ReviewText = ReviewText.str.replace(\"(&#39)\", \"\")\n",
    "    ReviewText = ReviewText.str.replace(\"(<br/>)\", \"\")\n",
    "    ReviewText = ReviewText.str.replace('(<a).*(>).*(</a>)', '')\n",
    "    ReviewText = ReviewText.str.replace('(&amp)', '')\n",
    "    ReviewText = ReviewText.str.replace('(&gt)', '')\n",
    "    ReviewText = ReviewText.str.replace('(&lt)', '')\n",
    "    ReviewText = ReviewText.str.replace('(\\xa0)', ' ')\n",
    "    ReviewText = ReviewText.str.replace('questions', 'question')\n",
    "    return ReviewText.str.lower()\n",
    "\n",
    "def get_top_n_words(corpus, num_grams, n=None):\n",
    "    vec = CountVectorizer(ngram_range=(num_grams,num_grams), stop_words=stopWords).fit(corpus)\n",
    "    bag_of_words = vec.transform(corpus)\n",
    "    sum_words = bag_of_words.sum(axis=0) \n",
    "    words_freq = [(word, sum_words[0, idx]) for word, idx in vec.vocabulary_.items()]\n",
    "    words_freq =sorted(words_freq, key = lambda x: x[1], reverse=True)\n",
    "    return words_freq[:n]\n",
    "\n",
    "from sklearn.feature_extraction.text import ENGLISH_STOP_WORDS as esw\n",
    "esw = list(esw)"
   ]
  },
  {
   "cell_type": "code",
   "execution_count": 14,
   "id": "6d676012",
   "metadata": {},
   "outputs": [],
   "source": [
    "posts['Text'] = preprocess(posts['Text'])"
   ]
  },
  {
   "cell_type": "markdown",
   "id": "e9e29a83",
   "metadata": {},
   "source": [
    "I'm going to iteratively build a list of frequently used words that I do not care about to remove starting with the glaze names we already know and english stop words. Additionally I will add other glazes it they appear frequently. The two cells below are the final result of that iterative process."
   ]
  },
  {
   "cell_type": "code",
   "execution_count": 15,
   "id": "bfc34084",
   "metadata": {},
   "outputs": [],
   "source": [
    "new_names = pd.DataFrame({'prodId':['SW-155','SW-155','SW-101'],\n",
    "         'name':['Winter Wood','Winter Wood','Stoned Denim'],\n",
    "         0:['winterwood','ww',None]\n",
    "        })\n",
    "name_info = name_info.append(new_names, ignore_index=True)"
   ]
  },
  {
   "cell_type": "code",
   "execution_count": 16,
   "id": "b041f135",
   "metadata": {},
   "outputs": [],
   "source": [
    "#I'm going to iteratively build a list of frequently used words that I do not care about to remove\n",
    "#starting with the glaze names we already know and english stop words\n",
    "\n",
    "from sklearn.feature_extraction.text import ENGLISH_STOP_WORDS as esw\n",
    "esw = list(esw)\n",
    "glazes_idd = sum(name_info['name'].str.lower().str.split(' '), []) + sum(name_info[0].astype('str').str.lower().str.split(' '), [])\n",
    "other_remove = ['amaco','brent','glaze','youtube','channel','fans','new','york','city','time','zone','ceramic','mending','used',\n",
    "                'live','cone','minute','hold','stoneware','clay','mug','shot','monday','potters','choice','glazesfired','use',\n",
    "                'community','kiln','laguna','speckled','buff','thought','id','share','https','facebook','www','instagram','firing',\n",
    "                'com','standard','1x','2x','3x','4x','5x','x1','x2','x3','x4','x5','fired','bisque','slow','cool','pc','glazes',\n",
    "                'velvet','underglaze','inside','outside','min','10','looks','like','coats','test','tiles','im','looking','know','thanks',\n",
    "               'rim','dont','want','zinc','free','food','safe','combos','years','got','just','little','loafers','hand','built','mudworks',\n",
    "               'love','help','need','good','morning','ive','seen','wax','resist','happy','does','question','half','greatly','run','cones',\n",
    "               'schedule','bowl','thank','piece','pieces','did','mix','really','think']\n",
    "\n",
    "stopWords = esw + glazes_idd + other_remove"
   ]
  },
  {
   "cell_type": "code",
   "execution_count": 17,
   "id": "0ac60f64",
   "metadata": {},
   "outputs": [],
   "source": [
    "common_words = get_top_n_words(posts['Text'], 1, 30)\n",
    "df1 = pd.DataFrame(common_words, columns = ['survey_response_value' , 'count'])\n",
    "\n",
    "common_words = get_top_n_words(posts['Text'], 2, 100)\n",
    "df2 = pd.DataFrame(common_words, columns = ['survey_response_value' , 'count'])\n",
    "\n",
    "common_words = get_top_n_words(posts['Text'], 3, 30)\n",
    "df3 = pd.DataFrame(common_words, columns = ['survey_response_value' , 'count'])"
   ]
  },
  {
   "cell_type": "code",
   "execution_count": 18,
   "id": "e81dc3e5",
   "metadata": {},
   "outputs": [
    {
     "data": {
      "text/html": [
       "<div>\n",
       "<style scoped>\n",
       "    .dataframe tbody tr th:only-of-type {\n",
       "        vertical-align: middle;\n",
       "    }\n",
       "\n",
       "    .dataframe tbody tr th {\n",
       "        vertical-align: top;\n",
       "    }\n",
       "\n",
       "    .dataframe thead th {\n",
       "        text-align: right;\n",
       "    }\n",
       "</style>\n",
       "<table border=\"1\" class=\"dataframe\">\n",
       "  <thead>\n",
       "    <tr style=\"text-align: right;\">\n",
       "      <th></th>\n",
       "      <th>survey_response_value</th>\n",
       "      <th>count</th>\n",
       "    </tr>\n",
       "  </thead>\n",
       "  <tbody>\n",
       "    <tr>\n",
       "      <th>0</th>\n",
       "      <td>oil spot</td>\n",
       "      <td>579</td>\n",
       "    </tr>\n",
       "    <tr>\n",
       "      <th>1</th>\n",
       "      <td>left right</td>\n",
       "      <td>550</td>\n",
       "    </tr>\n",
       "    <tr>\n",
       "      <th>2</th>\n",
       "      <td>medium speed</td>\n",
       "      <td>405</td>\n",
       "    </tr>\n",
       "    <tr>\n",
       "      <th>3</th>\n",
       "      <td>stroke coat</td>\n",
       "      <td>392</td>\n",
       "    </tr>\n",
       "    <tr>\n",
       "      <th>4</th>\n",
       "      <td>base coat</td>\n",
       "      <td>355</td>\n",
       "    </tr>\n",
       "  </tbody>\n",
       "</table>\n",
       "</div>"
      ],
      "text/plain": [
       "  survey_response_value  count\n",
       "0              oil spot    579\n",
       "1            left right    550\n",
       "2          medium speed    405\n",
       "3           stroke coat    392\n",
       "4             base coat    355"
      ]
     },
     "execution_count": 18,
     "metadata": {},
     "output_type": "execute_result"
    }
   ],
   "source": [
    "df2.head()"
   ]
  },
  {
   "cell_type": "markdown",
   "id": "fdd85f32",
   "metadata": {},
   "source": [
    "This method was less effective than expected, I'm moving on to other data cleaning\n",
    "however this is our list of glazes we will be working with. \n",
    "Additionally I'm dropping a few glazes because they are unpopular, but have generic names so are way over extracting\n"
   ]
  },
  {
   "cell_type": "code",
   "execution_count": 19,
   "id": "de8bf943",
   "metadata": {},
   "outputs": [
    {
     "name": "stdout",
     "output_type": "stream",
     "text": [
      "89\n"
     ]
    }
   ],
   "source": [
    "glaze_set = name_info[['prodId','name']].drop_duplicates().sort_values('prodId').reset_index(drop=True)\n",
    "glaze_set = glaze_set[~(glaze_set['name'].isin(['Iron','Ice']))].reset_index(drop=True)\n",
    "print(len(glaze_set))"
   ]
  },
  {
   "cell_type": "markdown",
   "id": "34a65c66",
   "metadata": {},
   "source": [
    "My next task is extracting the glazes used in each post"
   ]
  },
  {
   "cell_type": "code",
   "execution_count": 20,
   "id": "b7ef4452",
   "metadata": {},
   "outputs": [],
   "source": [
    "#creating a boolean matrix for whether a glaze or it's alt names were found\n",
    "#initalize a matrix of 0's that is the size of our glazes x posts\n",
    "post_glaze_matrix = np.full((len(glaze_set), len(posts)), 0)\n",
    "\n",
    "\n",
    "for g in range(len(glaze_set)):\n",
    "    #for each glaze get a list of possible names\n",
    "    possible_names = [glaze_set['name'][g]] + list(name_info[name_info['name']==glaze_set['name'][g]][0].dropna())\n",
    "   # print(possible_names)\n",
    "    \n",
    "    #find whether each name is listed\n",
    "    glaze_listed = [0] * len(posts)\n",
    "    for n in possible_names:\n",
    "        #The glazes with two letter alternate names were way over extracting, \n",
    "        #so I need to make the reg expression more complex\n",
    "        if len(n)<=5:\n",
    "            search = \"[ x]{1}\"+n+\"[ x]{1}\"\n",
    "        else:\n",
    "            search = n\n",
    "            \n",
    "        glaze_listed = np.max([glaze_listed, posts['Text'].str.contains(search,case=False)*1],axis=0)\n",
    "        \n",
    "    post_glaze_matrix[g] = glaze_listed"
   ]
  },
  {
   "cell_type": "markdown",
   "id": "90f7d61a",
   "metadata": {},
   "source": [
    "Now we can do some descriptive on how often glazes are used "
   ]
  },
  {
   "cell_type": "code",
   "execution_count": 21,
   "id": "99f674c8",
   "metadata": {},
   "outputs": [
    {
     "data": {
      "image/png": "[encoded data removed]",
      "text/plain": [
       "<Figure size 900x1600 with 1 Axes>"
      ]
     },
     "metadata": {},
     "output_type": "display_data"
    }
   ],
   "source": [
    "import matplotlib.pyplot as plt\n",
    "fig = plt.figure(figsize =(9, 16))\n",
    "ax = fig.add_axes([0,0,1,1])\n",
    "ax.set_title('Count of posts including glaze')\n",
    "cats = glaze_set['name']\n",
    "counts = post_glaze_matrix.sum(axis=1)\n",
    "ax.barh(cats,counts)\n",
    "#ax.invert_xaxis()\n",
    "plt.show()"
   ]
  },
  {
   "cell_type": "markdown",
   "id": "02d4a22b",
   "metadata": {},
   "source": [
    "This graph now reads pretty true to me. Let's look at glazes were extracted from each post."
   ]
  },
  {
   "cell_type": "code",
   "execution_count": 22,
   "id": "fb417488",
   "metadata": {},
   "outputs": [
    {
     "data": {
      "text/plain": [
       "(array([3.9269e+04, 2.1301e+04, 1.9065e+04, 1.0682e+04, 4.6230e+03,\n",
       "        2.0260e+03, 9.6100e+02, 4.6200e+02, 2.4600e+02, 1.2700e+02,\n",
       "        8.0000e+01, 3.9000e+01, 2.6000e+01, 2.1000e+01, 1.6000e+01,\n",
       "        1.6000e+01, 5.0000e+00, 4.0000e+00, 1.0000e+00, 3.0000e+00,\n",
       "        6.0000e+00, 1.0000e+00, 1.0000e+00, 0.0000e+00, 0.0000e+00,\n",
       "        0.0000e+00, 0.0000e+00, 0.0000e+00, 0.0000e+00, 2.0000e+00,\n",
       "        0.0000e+00, 0.0000e+00, 0.0000e+00, 0.0000e+00, 0.0000e+00,\n",
       "        1.0000e+00]),\n",
       " array([ 0.,  1.,  2.,  3.,  4.,  5.,  6.,  7.,  8.,  9., 10., 11., 12.,\n",
       "        13., 14., 15., 16., 17., 18., 19., 20., 21., 22., 23., 24., 25.,\n",
       "        26., 27., 28., 29., 30., 31., 32., 33., 34., 35., 36.]),\n",
       " <BarContainer object of 36 artists>)"
      ]
     },
     "execution_count": 22,
     "metadata": {},
     "output_type": "execute_result"
    },
    {
     "data": {
      "image/png": "[encoded data removed]",
      "text/plain": [
       "<Figure size 640x480 with 1 Axes>"
      ]
     },
     "metadata": {},
     "output_type": "display_data"
    }
   ],
   "source": [
    "#Let's look at glazes per post now\n",
    "counts, bins = np.histogram(np.sum(post_glaze_matrix,axis=0),max(np.sum(post_glaze_matrix,axis=0)))\n",
    "plt.hist(bins[:-1], bins, weights=counts)"
   ]
  },
  {
   "cell_type": "markdown",
   "id": "8adbb17b",
   "metadata": {},
   "source": [
    "There are a huge number of posts with 0 or 1 glaze extracted. Not surprising, facebook posts are very unstructured and even if this post contained a glaze combo it could be in the comments or in the image/image description. Considering this project is about combos, we need at least two glazes in every post"
   ]
  },
  {
   "cell_type": "code",
   "execution_count": 23,
   "id": "a6d10736",
   "metadata": {},
   "outputs": [
    {
     "name": "stdout",
     "output_type": "stream",
     "text": [
      "(89, 38414)\n"
     ]
    }
   ],
   "source": [
    "#dropping posts with no glazes or 1 glaze extracted\n",
    "posts = posts[np.sum(post_glaze_matrix,axis=0) > 1]\n",
    "post_glaze_matrix = post_glaze_matrix[:,np.sum(post_glaze_matrix,axis=0) > 1]\n",
    "print(post_glaze_matrix.shape)"
   ]
  },
  {
   "cell_type": "markdown",
   "id": "0f7763cb",
   "metadata": {},
   "source": [
    "## Data preparation\n",
    "To conduct my analyses I need two matrixes of size #glazes x #glazes\n",
    "\n",
    "- post_glaze_matrix will count the number of posts that mention both glazes\n",
    "- glaze_likes_matrix will average the number of likes posts that mention both glazes get"
   ]
  },
  {
   "cell_type": "code",
   "execution_count": 24,
   "id": "5673e179",
   "metadata": {},
   "outputs": [],
   "source": [
    "glaze_paired_matrix = np.full((len(glaze_set), len(glaze_set)), 0.0)\n",
    "for g in range(len(glaze_set['name'])):\n",
    "    for c in range(len(glaze_set['name'])):\n",
    "        glaze_paired_matrix[g,c] = sum(post_glaze_matrix [g]*post_glaze_matrix [c])\n",
    "        \n",
    "glaze_likes_matrix = np.full((len(glaze_set), len(glaze_set)), 0)\n",
    "for g in range(len(glaze_set['name'])):\n",
    "    for c in range(len(glaze_set['name'])):\n",
    "        rows = np.nan_to_num(post_glaze_matrix [g]*post_glaze_matrix [c])\n",
    "        if sum(rows)>0:\n",
    "            glaze_likes_matrix[g,c] = np.mean(posts['Likes'][rows.astype('bool')])"
   ]
  },
  {
   "cell_type": "markdown",
   "id": "8c6d933f",
   "metadata": {},
   "source": [
    "# Analysis\n",
    "## Glaze similarity with content filtering\n",
    "Based on the glaze_likes_matrix I'm going to calculate the cosine similarity between glazes. "
   ]
  },
  {
   "cell_type": "code",
   "execution_count": 25,
   "id": "255d81cc",
   "metadata": {},
   "outputs": [],
   "source": [
    "import sklearn.metrics"
   ]
  },
  {
   "cell_type": "code",
   "execution_count": 26,
   "id": "41128a93",
   "metadata": {},
   "outputs": [],
   "source": [
    "standardized_glaze_pairs = (glaze_paired_matrix/np.sum(glaze_paired_matrix, axis=0))"
   ]
  },
  {
   "cell_type": "code",
   "execution_count": 27,
   "id": "574dce0d",
   "metadata": {},
   "outputs": [],
   "source": [
    "sim_glaze_pairs = sklearn.metrics.pairwise.cosine_similarity(standardized_glaze_pairs)"
   ]
  },
  {
   "cell_type": "markdown",
   "id": "8dd90607",
   "metadata": {},
   "source": [
    "## Predicting likes with svd matrix factorization\n",
    "I choose svd matrix factorization because it preforms well with sparse matrices"
   ]
  },
  {
   "cell_type": "code",
   "execution_count": 28,
   "id": "69e759de",
   "metadata": {},
   "outputs": [],
   "source": [
    "from scipy.sparse.linalg import svds"
   ]
  },
  {
   "cell_type": "code",
   "execution_count": 29,
   "id": "ce4fea4d",
   "metadata": {},
   "outputs": [],
   "source": [
    "glaze_likes_matrix = np.where(glaze_likes_matrix==0,np.NaN,glaze_likes_matrix)"
   ]
  },
  {
   "cell_type": "code",
   "execution_count": 30,
   "id": "a0786886",
   "metadata": {},
   "outputs": [],
   "source": [
    "glaze_ratings_mean = np.nanmean(glaze_likes_matrix, axis = 1)\n",
    "matrix_centered = glaze_likes_matrix - glaze_ratings_mean.reshape(-1, 1)"
   ]
  },
  {
   "cell_type": "code",
   "execution_count": 31,
   "id": "93a7e5ac",
   "metadata": {},
   "outputs": [],
   "source": [
    "matrix_centered = np.nan_to_num(matrix_centered)"
   ]
  },
  {
   "cell_type": "code",
   "execution_count": 32,
   "id": "528e388f",
   "metadata": {},
   "outputs": [],
   "source": [
    "U, sigma, Vt = svds(matrix_centered,k=3)\n",
    "sigma = np.diag(sigma)"
   ]
  },
  {
   "cell_type": "code",
   "execution_count": 33,
   "id": "60f1852f",
   "metadata": {},
   "outputs": [],
   "source": [
    "glaze_predicted_ratings = np.dot(np.dot(U, sigma), Vt) + glaze_ratings_mean.reshape(-1, 1)"
   ]
  },
  {
   "cell_type": "markdown",
   "id": "092f1205",
   "metadata": {},
   "source": [
    "Now I'm just going to put our results in a dataframe to easily share the results"
   ]
  },
  {
   "cell_type": "code",
   "execution_count": 34,
   "id": "70162d12",
   "metadata": {},
   "outputs": [],
   "source": [
    "#convert to a df for convenience filtering with columns for similarity, frequency of posts, avg_likes, and predicted_likes\n",
    "results_df = pd.DataFrame(sim_glaze_pairs).reset_index().melt('index')\n",
    "results_df = results_df.rename(columns={'index':'glaze_1','variable':'glaze_2','value':'similarity'})\n",
    "\n",
    "glaze_paired_freq = pd.DataFrame(glaze_paired_matrix).reset_index().melt('index')\n",
    "glaze_paired_freq = glaze_paired_freq.rename(columns={'index':'glaze_1','variable':'glaze_2','value':'frequency'})\n",
    "\n",
    "glaze_paired_likes = pd.DataFrame(glaze_likes_matrix).reset_index().melt('index')\n",
    "glaze_paired_likes = glaze_paired_likes.rename(columns={'index':'glaze_1','variable':'glaze_2','value':'avg_likes'})\n",
    "\n",
    "glaze_predict_likes = pd.DataFrame(glaze_predicted_ratings).reset_index().melt('index')\n",
    "glaze_predict_likes = glaze_predict_likes.rename(columns={'index':'glaze_1','variable':'glaze_2','value':'predicted_likes'})\n",
    "\n",
    "results_df = results_df.merge(glaze_paired_freq, on=['glaze_1','glaze_2']).merge(glaze_paired_likes, on=['glaze_1','glaze_2']).merge(glaze_predict_likes, on=['glaze_1','glaze_2'])\n",
    "results_df = results_df[results_df.glaze_1<results_df.glaze_2].reset_index(drop=True)\n",
    "\n",
    "results_df['glaze_1'] = results_df['glaze_1'].apply(lambda x: glaze_set['name'][x])\n",
    "results_df['glaze_2'] = results_df['glaze_2'].apply(lambda x: glaze_set['name'][x])"
   ]
  },
  {
   "cell_type": "markdown",
   "id": "5007faae",
   "metadata": {},
   "source": [
    "## What are the most popular glaze combinations?"
   ]
  },
  {
   "cell_type": "code",
   "execution_count": 36,
   "id": "ff717ffc",
   "metadata": {},
   "outputs": [
    {
     "data": {
      "text/html": [
       "<div>\n",
       "<style scoped>\n",
       "    .dataframe tbody tr th:only-of-type {\n",
       "        vertical-align: middle;\n",
       "    }\n",
       "\n",
       "    .dataframe tbody tr th {\n",
       "        vertical-align: top;\n",
       "    }\n",
       "\n",
       "    .dataframe thead th {\n",
       "        text-align: right;\n",
       "    }\n",
       "</style>\n",
       "<table border=\"1\" class=\"dataframe\">\n",
       "  <thead>\n",
       "    <tr style=\"text-align: right;\">\n",
       "      <th></th>\n",
       "      <th>glaze_1</th>\n",
       "      <th>glaze_2</th>\n",
       "      <th>similarity</th>\n",
       "      <th>frequency</th>\n",
       "      <th>avg_likes</th>\n",
       "      <th>predicted_likes</th>\n",
       "    </tr>\n",
       "  </thead>\n",
       "  <tbody>\n",
       "    <tr>\n",
       "      <th>683</th>\n",
       "      <td>Obsidian</td>\n",
       "      <td>Seaweed</td>\n",
       "      <td>0.685898</td>\n",
       "      <td>2362.0</td>\n",
       "      <td>88.0</td>\n",
       "      <td>75.008799</td>\n",
       "    </tr>\n",
       "    <tr>\n",
       "      <th>911</th>\n",
       "      <td>Obsidian</td>\n",
       "      <td>Smokey Merlot</td>\n",
       "      <td>0.702123</td>\n",
       "      <td>1882.0</td>\n",
       "      <td>90.0</td>\n",
       "      <td>77.638698</td>\n",
       "    </tr>\n",
       "    <tr>\n",
       "      <th>716</th>\n",
       "      <td>Oatmeal</td>\n",
       "      <td>Seaweed</td>\n",
       "      <td>0.694855</td>\n",
       "      <td>1757.0</td>\n",
       "      <td>80.0</td>\n",
       "      <td>76.030600</td>\n",
       "    </tr>\n",
       "    <tr>\n",
       "      <th>464</th>\n",
       "      <td>Blue Rutile</td>\n",
       "      <td>Oatmeal</td>\n",
       "      <td>0.693203</td>\n",
       "      <td>1448.0</td>\n",
       "      <td>81.0</td>\n",
       "      <td>71.203168</td>\n",
       "    </tr>\n",
       "    <tr>\n",
       "      <th>708</th>\n",
       "      <td>Blue Rutile</td>\n",
       "      <td>Seaweed</td>\n",
       "      <td>0.678378</td>\n",
       "      <td>1413.0</td>\n",
       "      <td>79.0</td>\n",
       "      <td>69.649820</td>\n",
       "    </tr>\n",
       "    <tr>\n",
       "      <th>711</th>\n",
       "      <td>Indigo Float</td>\n",
       "      <td>Seaweed</td>\n",
       "      <td>0.670836</td>\n",
       "      <td>1398.0</td>\n",
       "      <td>86.0</td>\n",
       "      <td>65.220969</td>\n",
       "    </tr>\n",
       "    <tr>\n",
       "      <th>953</th>\n",
       "      <td>Seaweed</td>\n",
       "      <td>Smokey Merlot</td>\n",
       "      <td>0.648424</td>\n",
       "      <td>1382.0</td>\n",
       "      <td>89.0</td>\n",
       "      <td>86.149420</td>\n",
       "    </tr>\n",
       "    <tr>\n",
       "      <th>938</th>\n",
       "      <td>Blue Rutile</td>\n",
       "      <td>Smokey Merlot</td>\n",
       "      <td>0.623778</td>\n",
       "      <td>1041.0</td>\n",
       "      <td>81.0</td>\n",
       "      <td>74.649261</td>\n",
       "    </tr>\n",
       "    <tr>\n",
       "      <th>340</th>\n",
       "      <td>Blue Rutile</td>\n",
       "      <td>Textured Turquoise</td>\n",
       "      <td>0.558787</td>\n",
       "      <td>1032.0</td>\n",
       "      <td>88.0</td>\n",
       "      <td>74.031927</td>\n",
       "    </tr>\n",
       "    <tr>\n",
       "      <th>467</th>\n",
       "      <td>Indigo Float</td>\n",
       "      <td>Oatmeal</td>\n",
       "      <td>0.601978</td>\n",
       "      <td>1015.0</td>\n",
       "      <td>77.0</td>\n",
       "      <td>65.547807</td>\n",
       "    </tr>\n",
       "  </tbody>\n",
       "</table>\n",
       "</div>"
      ],
      "text/plain": [
       "          glaze_1             glaze_2  similarity  frequency  avg_likes  \\\n",
       "683      Obsidian             Seaweed    0.685898     2362.0       88.0   \n",
       "911      Obsidian       Smokey Merlot    0.702123     1882.0       90.0   \n",
       "716       Oatmeal             Seaweed    0.694855     1757.0       80.0   \n",
       "464   Blue Rutile             Oatmeal    0.693203     1448.0       81.0   \n",
       "708   Blue Rutile             Seaweed    0.678378     1413.0       79.0   \n",
       "711  Indigo Float             Seaweed    0.670836     1398.0       86.0   \n",
       "953       Seaweed       Smokey Merlot    0.648424     1382.0       89.0   \n",
       "938   Blue Rutile       Smokey Merlot    0.623778     1041.0       81.0   \n",
       "340   Blue Rutile  Textured Turquoise    0.558787     1032.0       88.0   \n",
       "467  Indigo Float             Oatmeal    0.601978     1015.0       77.0   \n",
       "\n",
       "     predicted_likes  \n",
       "683        75.008799  \n",
       "911        77.638698  \n",
       "716        76.030600  \n",
       "464        71.203168  \n",
       "708        69.649820  \n",
       "711        65.220969  \n",
       "953        86.149420  \n",
       "938        74.649261  \n",
       "340        74.031927  \n",
       "467        65.547807  "
      ]
     },
     "execution_count": 36,
     "metadata": {},
     "output_type": "execute_result"
    }
   ],
   "source": [
    "results_df.sort_values('frequency',ascending=False).head(10)"
   ]
  },
  {
   "cell_type": "markdown",
   "id": "3f345fef",
   "metadata": {},
   "source": [
    "# Results\n",
    "- What are the best combinations I can create with my current set of glazes?\n",
    "- Which combinations could be really popular, but almost no examples are posted?\n",
    "- What is the best glaze to pair with my favorite glaze?\n",
    "- If I were to buy a new glaze, which would pair the best with my current set of glazes?"
   ]
  },
  {
   "cell_type": "code",
   "execution_count": 37,
   "id": "9fecdeda",
   "metadata": {},
   "outputs": [],
   "source": [
    "#These are my current glazes\n",
    "glazes_owned = ['Winter Wood','Obsidian','Ancient Jasper', 'Textured Turqoise', 'Smokey Merlot','Seaweed','Oatmeal','Blue Midnight','Arctic Blue','Art Deco Green','Deep Olive Speckle','Snow']"
   ]
  },
  {
   "cell_type": "markdown",
   "id": "0ac7ffa4",
   "metadata": {},
   "source": [
    "## What are the best combinations I can create with my current set of glazes?\n",
    "The most popular combinations based on average likes and the predicted likes from our matrix factorization"
   ]
  },
  {
   "cell_type": "code",
   "execution_count": 38,
   "id": "810dff7f",
   "metadata": {},
   "outputs": [
    {
     "data": {
      "text/plain": [
       "30"
      ]
     },
     "execution_count": 38,
     "metadata": {},
     "output_type": "execute_result"
    }
   ],
   "source": [
    "results_mine = results_df[(results_df['glaze_1'].isin(glazes_owned))&(results_df['glaze_2'].isin(glazes_owned))]\n",
    "len(results_mine)"
   ]
  },
  {
   "cell_type": "markdown",
   "id": "b50ab43a",
   "metadata": {},
   "source": [
    "### Average likes (observed data)"
   ]
  },
  {
   "cell_type": "code",
   "execution_count": 39,
   "id": "28f52c43",
   "metadata": {
    "scrolled": false
   },
   "outputs": [
    {
     "data": {
      "text/html": [
       "<div>\n",
       "<style scoped>\n",
       "    .dataframe tbody tr th:only-of-type {\n",
       "        vertical-align: middle;\n",
       "    }\n",
       "\n",
       "    .dataframe tbody tr th {\n",
       "        vertical-align: top;\n",
       "    }\n",
       "\n",
       "    .dataframe thead th {\n",
       "        text-align: right;\n",
       "    }\n",
       "</style>\n",
       "<table border=\"1\" class=\"dataframe\">\n",
       "  <thead>\n",
       "    <tr style=\"text-align: right;\">\n",
       "      <th></th>\n",
       "      <th>glaze_1</th>\n",
       "      <th>glaze_2</th>\n",
       "      <th>similarity</th>\n",
       "      <th>frequency</th>\n",
       "      <th>avg_likes</th>\n",
       "      <th>predicted_likes</th>\n",
       "    </tr>\n",
       "  </thead>\n",
       "  <tbody>\n",
       "    <tr>\n",
       "      <th>1914</th>\n",
       "      <td>Smokey Merlot</td>\n",
       "      <td>Winter Wood</td>\n",
       "      <td>0.141141</td>\n",
       "      <td>37.0</td>\n",
       "      <td>169.0</td>\n",
       "      <td>95.764716</td>\n",
       "    </tr>\n",
       "    <tr>\n",
       "      <th>405</th>\n",
       "      <td>Arctic Blue</td>\n",
       "      <td>Deep Olive Speckle</td>\n",
       "      <td>0.096363</td>\n",
       "      <td>15.0</td>\n",
       "      <td>140.0</td>\n",
       "      <td>93.562169</td>\n",
       "    </tr>\n",
       "    <tr>\n",
       "      <th>1849</th>\n",
       "      <td>Obsidian</td>\n",
       "      <td>Winter Wood</td>\n",
       "      <td>0.090955</td>\n",
       "      <td>19.0</td>\n",
       "      <td>139.0</td>\n",
       "      <td>80.426464</td>\n",
       "    </tr>\n",
       "    <tr>\n",
       "      <th>1850</th>\n",
       "      <td>Snow</td>\n",
       "      <td>Winter Wood</td>\n",
       "      <td>0.081928</td>\n",
       "      <td>20.0</td>\n",
       "      <td>134.0</td>\n",
       "      <td>83.863654</td>\n",
       "    </tr>\n",
       "    <tr>\n",
       "      <th>1877</th>\n",
       "      <td>Blue Midnight</td>\n",
       "      <td>Winter Wood</td>\n",
       "      <td>0.100219</td>\n",
       "      <td>17.0</td>\n",
       "      <td>126.0</td>\n",
       "      <td>76.927727</td>\n",
       "    </tr>\n",
       "    <tr>\n",
       "      <th>1908</th>\n",
       "      <td>Art Deco Green</td>\n",
       "      <td>Winter Wood</td>\n",
       "      <td>0.057733</td>\n",
       "      <td>9.0</td>\n",
       "      <td>125.0</td>\n",
       "      <td>97.599412</td>\n",
       "    </tr>\n",
       "    <tr>\n",
       "      <th>945</th>\n",
       "      <td>Deep Olive Speckle</td>\n",
       "      <td>Smokey Merlot</td>\n",
       "      <td>0.173807</td>\n",
       "      <td>51.0</td>\n",
       "      <td>115.0</td>\n",
       "      <td>86.242230</td>\n",
       "    </tr>\n",
       "    <tr>\n",
       "      <th>958</th>\n",
       "      <td>Art Deco Green</td>\n",
       "      <td>Smokey Merlot</td>\n",
       "      <td>0.131495</td>\n",
       "      <td>32.0</td>\n",
       "      <td>114.0</td>\n",
       "      <td>80.843293</td>\n",
       "    </tr>\n",
       "    <tr>\n",
       "      <th>1911</th>\n",
       "      <td>Ancient Jasper</td>\n",
       "      <td>Winter Wood</td>\n",
       "      <td>0.113836</td>\n",
       "      <td>30.0</td>\n",
       "      <td>107.0</td>\n",
       "      <td>97.202291</td>\n",
       "    </tr>\n",
       "    <tr>\n",
       "      <th>709</th>\n",
       "      <td>Arctic Blue</td>\n",
       "      <td>Seaweed</td>\n",
       "      <td>0.449653</td>\n",
       "      <td>471.0</td>\n",
       "      <td>99.0</td>\n",
       "      <td>76.855382</td>\n",
       "    </tr>\n",
       "  </tbody>\n",
       "</table>\n",
       "</div>"
      ],
      "text/plain": [
       "                 glaze_1             glaze_2  similarity  frequency  \\\n",
       "1914       Smokey Merlot         Winter Wood    0.141141       37.0   \n",
       "405          Arctic Blue  Deep Olive Speckle    0.096363       15.0   \n",
       "1849            Obsidian         Winter Wood    0.090955       19.0   \n",
       "1850                Snow         Winter Wood    0.081928       20.0   \n",
       "1877       Blue Midnight         Winter Wood    0.100219       17.0   \n",
       "1908      Art Deco Green         Winter Wood    0.057733        9.0   \n",
       "945   Deep Olive Speckle       Smokey Merlot    0.173807       51.0   \n",
       "958       Art Deco Green       Smokey Merlot    0.131495       32.0   \n",
       "1911      Ancient Jasper         Winter Wood    0.113836       30.0   \n",
       "709          Arctic Blue             Seaweed    0.449653      471.0   \n",
       "\n",
       "      avg_likes  predicted_likes  \n",
       "1914      169.0        95.764716  \n",
       "405       140.0        93.562169  \n",
       "1849      139.0        80.426464  \n",
       "1850      134.0        83.863654  \n",
       "1877      126.0        76.927727  \n",
       "1908      125.0        97.599412  \n",
       "945       115.0        86.242230  \n",
       "958       114.0        80.843293  \n",
       "1911      107.0        97.202291  \n",
       "709        99.0        76.855382  "
      ]
     },
     "execution_count": 39,
     "metadata": {},
     "output_type": "execute_result"
    }
   ],
   "source": [
    "results_mine.sort_values('avg_likes',ascending=False).head(10)"
   ]
  },
  {
   "cell_type": "markdown",
   "id": "2892aed9",
   "metadata": {},
   "source": [
    "### Precited likes (predicted data)"
   ]
  },
  {
   "cell_type": "code",
   "execution_count": 40,
   "id": "0490d48c",
   "metadata": {},
   "outputs": [
    {
     "data": {
      "text/html": [
       "<div>\n",
       "<style scoped>\n",
       "    .dataframe tbody tr th:only-of-type {\n",
       "        vertical-align: middle;\n",
       "    }\n",
       "\n",
       "    .dataframe tbody tr th {\n",
       "        vertical-align: top;\n",
       "    }\n",
       "\n",
       "    .dataframe thead th {\n",
       "        text-align: right;\n",
       "    }\n",
       "</style>\n",
       "<table border=\"1\" class=\"dataframe\">\n",
       "  <thead>\n",
       "    <tr style=\"text-align: right;\">\n",
       "      <th></th>\n",
       "      <th>glaze_1</th>\n",
       "      <th>glaze_2</th>\n",
       "      <th>similarity</th>\n",
       "      <th>frequency</th>\n",
       "      <th>avg_likes</th>\n",
       "      <th>predicted_likes</th>\n",
       "    </tr>\n",
       "  </thead>\n",
       "  <tbody>\n",
       "    <tr>\n",
       "      <th>1891</th>\n",
       "      <td>Deep Olive Speckle</td>\n",
       "      <td>Winter Wood</td>\n",
       "      <td>0.031071</td>\n",
       "      <td>0.0</td>\n",
       "      <td>NaN</td>\n",
       "      <td>98.458961</td>\n",
       "    </tr>\n",
       "    <tr>\n",
       "      <th>1908</th>\n",
       "      <td>Art Deco Green</td>\n",
       "      <td>Winter Wood</td>\n",
       "      <td>0.057733</td>\n",
       "      <td>9.0</td>\n",
       "      <td>125.0</td>\n",
       "      <td>97.599412</td>\n",
       "    </tr>\n",
       "    <tr>\n",
       "      <th>1883</th>\n",
       "      <td>Arctic Blue</td>\n",
       "      <td>Winter Wood</td>\n",
       "      <td>0.061383</td>\n",
       "      <td>6.0</td>\n",
       "      <td>55.0</td>\n",
       "      <td>97.424372</td>\n",
       "    </tr>\n",
       "    <tr>\n",
       "      <th>1911</th>\n",
       "      <td>Ancient Jasper</td>\n",
       "      <td>Winter Wood</td>\n",
       "      <td>0.113836</td>\n",
       "      <td>30.0</td>\n",
       "      <td>107.0</td>\n",
       "      <td>97.202291</td>\n",
       "    </tr>\n",
       "    <tr>\n",
       "      <th>1902</th>\n",
       "      <td>Seaweed</td>\n",
       "      <td>Winter Wood</td>\n",
       "      <td>0.150638</td>\n",
       "      <td>41.0</td>\n",
       "      <td>95.0</td>\n",
       "      <td>96.046738</td>\n",
       "    </tr>\n",
       "    <tr>\n",
       "      <th>1914</th>\n",
       "      <td>Smokey Merlot</td>\n",
       "      <td>Winter Wood</td>\n",
       "      <td>0.141141</td>\n",
       "      <td>37.0</td>\n",
       "      <td>169.0</td>\n",
       "      <td>95.764716</td>\n",
       "    </tr>\n",
       "    <tr>\n",
       "      <th>405</th>\n",
       "      <td>Arctic Blue</td>\n",
       "      <td>Deep Olive Speckle</td>\n",
       "      <td>0.096363</td>\n",
       "      <td>15.0</td>\n",
       "      <td>140.0</td>\n",
       "      <td>93.562169</td>\n",
       "    </tr>\n",
       "    <tr>\n",
       "      <th>1893</th>\n",
       "      <td>Oatmeal</td>\n",
       "      <td>Winter Wood</td>\n",
       "      <td>0.163138</td>\n",
       "      <td>53.0</td>\n",
       "      <td>96.0</td>\n",
       "      <td>86.345308</td>\n",
       "    </tr>\n",
       "    <tr>\n",
       "      <th>945</th>\n",
       "      <td>Deep Olive Speckle</td>\n",
       "      <td>Smokey Merlot</td>\n",
       "      <td>0.173807</td>\n",
       "      <td>51.0</td>\n",
       "      <td>115.0</td>\n",
       "      <td>86.242230</td>\n",
       "    </tr>\n",
       "    <tr>\n",
       "      <th>953</th>\n",
       "      <td>Seaweed</td>\n",
       "      <td>Smokey Merlot</td>\n",
       "      <td>0.648424</td>\n",
       "      <td>1382.0</td>\n",
       "      <td>89.0</td>\n",
       "      <td>86.149420</td>\n",
       "    </tr>\n",
       "  </tbody>\n",
       "</table>\n",
       "</div>"
      ],
      "text/plain": [
       "                 glaze_1             glaze_2  similarity  frequency  \\\n",
       "1891  Deep Olive Speckle         Winter Wood    0.031071        0.0   \n",
       "1908      Art Deco Green         Winter Wood    0.057733        9.0   \n",
       "1883         Arctic Blue         Winter Wood    0.061383        6.0   \n",
       "1911      Ancient Jasper         Winter Wood    0.113836       30.0   \n",
       "1902             Seaweed         Winter Wood    0.150638       41.0   \n",
       "1914       Smokey Merlot         Winter Wood    0.141141       37.0   \n",
       "405          Arctic Blue  Deep Olive Speckle    0.096363       15.0   \n",
       "1893             Oatmeal         Winter Wood    0.163138       53.0   \n",
       "945   Deep Olive Speckle       Smokey Merlot    0.173807       51.0   \n",
       "953              Seaweed       Smokey Merlot    0.648424     1382.0   \n",
       "\n",
       "      avg_likes  predicted_likes  \n",
       "1891        NaN        98.458961  \n",
       "1908      125.0        97.599412  \n",
       "1883       55.0        97.424372  \n",
       "1911      107.0        97.202291  \n",
       "1902       95.0        96.046738  \n",
       "1914      169.0        95.764716  \n",
       "405       140.0        93.562169  \n",
       "1893       96.0        86.345308  \n",
       "945       115.0        86.242230  \n",
       "953        89.0        86.149420  "
      ]
     },
     "execution_count": 40,
     "metadata": {},
     "output_type": "execute_result"
    }
   ],
   "source": [
    "results_mine.sort_values('predicted_likes',ascending=False).head(10)"
   ]
  },
  {
   "cell_type": "markdown",
   "id": "9bacafcf",
   "metadata": {},
   "source": [
    "From the list of 55 glaze combinations I could make with my current set of glazes, the top 10 predicted combos for predicted vs. observed had 50% overlap. The top predicted combo 'Seaweed' and 'Winter Wood' I have tried and am not particularly fond of. "
   ]
  },
  {
   "cell_type": "markdown",
   "id": "2951d23a",
   "metadata": {},
   "source": [
    "## Which combinations could be really popular, but almost no examples are posted?\n",
    "The most popular combinations which fewer than 10 posts have been created."
   ]
  },
  {
   "cell_type": "code",
   "execution_count": 41,
   "id": "9a5a9267",
   "metadata": {},
   "outputs": [
    {
     "data": {
      "text/html": [
       "<div>\n",
       "<style scoped>\n",
       "    .dataframe tbody tr th:only-of-type {\n",
       "        vertical-align: middle;\n",
       "    }\n",
       "\n",
       "    .dataframe tbody tr th {\n",
       "        vertical-align: top;\n",
       "    }\n",
       "\n",
       "    .dataframe thead th {\n",
       "        text-align: right;\n",
       "    }\n",
       "</style>\n",
       "<table border=\"1\" class=\"dataframe\">\n",
       "  <thead>\n",
       "    <tr style=\"text-align: right;\">\n",
       "      <th></th>\n",
       "      <th>glaze_1</th>\n",
       "      <th>glaze_2</th>\n",
       "      <th>similarity</th>\n",
       "      <th>frequency</th>\n",
       "      <th>avg_likes</th>\n",
       "      <th>predicted_likes</th>\n",
       "    </tr>\n",
       "  </thead>\n",
       "  <tbody>\n",
       "    <tr>\n",
       "      <th>100</th>\n",
       "      <td>Cobalt</td>\n",
       "      <td>Poppy</td>\n",
       "      <td>0.038627</td>\n",
       "      <td>2.0</td>\n",
       "      <td>469.0</td>\n",
       "      <td>324.579572</td>\n",
       "    </tr>\n",
       "    <tr>\n",
       "      <th>1816</th>\n",
       "      <td>Albany Slip Brown</td>\n",
       "      <td>Stoned Denim</td>\n",
       "      <td>0.119627</td>\n",
       "      <td>4.0</td>\n",
       "      <td>180.0</td>\n",
       "      <td>220.521241</td>\n",
       "    </tr>\n",
       "    <tr>\n",
       "      <th>1837</th>\n",
       "      <td>Black Aventurine</td>\n",
       "      <td>Stoned Denim</td>\n",
       "      <td>0.000348</td>\n",
       "      <td>0.0</td>\n",
       "      <td>NaN</td>\n",
       "      <td>209.921344</td>\n",
       "    </tr>\n",
       "    <tr>\n",
       "      <th>1124</th>\n",
       "      <td>Albany Slip Brown</td>\n",
       "      <td>Black Aventurine</td>\n",
       "      <td>0.053508</td>\n",
       "      <td>8.0</td>\n",
       "      <td>292.0</td>\n",
       "      <td>207.213525</td>\n",
       "    </tr>\n",
       "    <tr>\n",
       "      <th>1825</th>\n",
       "      <td>Lustrous Jade</td>\n",
       "      <td>Stoned Denim</td>\n",
       "      <td>0.031716</td>\n",
       "      <td>1.0</td>\n",
       "      <td>488.0</td>\n",
       "      <td>205.756734</td>\n",
       "    </tr>\n",
       "    <tr>\n",
       "      <th>1831</th>\n",
       "      <td>Chun Plum</td>\n",
       "      <td>Stoned Denim</td>\n",
       "      <td>0.092071</td>\n",
       "      <td>3.0</td>\n",
       "      <td>246.0</td>\n",
       "      <td>200.729928</td>\n",
       "    </tr>\n",
       "    <tr>\n",
       "      <th>1834</th>\n",
       "      <td>Deep Firebrick</td>\n",
       "      <td>Stoned Denim</td>\n",
       "      <td>0.092344</td>\n",
       "      <td>3.0</td>\n",
       "      <td>217.0</td>\n",
       "      <td>197.991587</td>\n",
       "    </tr>\n",
       "    <tr>\n",
       "      <th>1838</th>\n",
       "      <td>River Rock</td>\n",
       "      <td>Stoned Denim</td>\n",
       "      <td>0.092946</td>\n",
       "      <td>3.0</td>\n",
       "      <td>266.0</td>\n",
       "      <td>195.020256</td>\n",
       "    </tr>\n",
       "    <tr>\n",
       "      <th>147</th>\n",
       "      <td>Storm</td>\n",
       "      <td>Tangelo</td>\n",
       "      <td>0.065142</td>\n",
       "      <td>5.0</td>\n",
       "      <td>208.0</td>\n",
       "      <td>193.645429</td>\n",
       "    </tr>\n",
       "    <tr>\n",
       "      <th>1935</th>\n",
       "      <td>Stoned Denim</td>\n",
       "      <td>Winter Wood</td>\n",
       "      <td>0.104163</td>\n",
       "      <td>3.0</td>\n",
       "      <td>172.0</td>\n",
       "      <td>193.298841</td>\n",
       "    </tr>\n",
       "  </tbody>\n",
       "</table>\n",
       "</div>"
      ],
      "text/plain": [
       "                glaze_1           glaze_2  similarity  frequency  avg_likes  \\\n",
       "100              Cobalt             Poppy    0.038627        2.0      469.0   \n",
       "1816  Albany Slip Brown      Stoned Denim    0.119627        4.0      180.0   \n",
       "1837   Black Aventurine      Stoned Denim    0.000348        0.0        NaN   \n",
       "1124  Albany Slip Brown  Black Aventurine    0.053508        8.0      292.0   \n",
       "1825      Lustrous Jade      Stoned Denim    0.031716        1.0      488.0   \n",
       "1831          Chun Plum      Stoned Denim    0.092071        3.0      246.0   \n",
       "1834     Deep Firebrick      Stoned Denim    0.092344        3.0      217.0   \n",
       "1838         River Rock      Stoned Denim    0.092946        3.0      266.0   \n",
       "147               Storm           Tangelo    0.065142        5.0      208.0   \n",
       "1935       Stoned Denim       Winter Wood    0.104163        3.0      172.0   \n",
       "\n",
       "      predicted_likes  \n",
       "100        324.579572  \n",
       "1816       220.521241  \n",
       "1837       209.921344  \n",
       "1124       207.213525  \n",
       "1825       205.756734  \n",
       "1831       200.729928  \n",
       "1834       197.991587  \n",
       "1838       195.020256  \n",
       "147        193.645429  \n",
       "1935       193.298841  "
      ]
     },
     "execution_count": 41,
     "metadata": {},
     "output_type": "execute_result"
    }
   ],
   "source": [
    "results_df[results_df['frequency']<10].sort_values('predicted_likes',ascending=False).head(10)"
   ]
  },
  {
   "cell_type": "markdown",
   "id": "618f30f3",
   "metadata": {},
   "source": [
    "The list of glazes that are predicted to be very popular, but have fewer than 10 posts is largely dominated by Ice and Stoned Denim. These are both not very frequent occurances on the glaze forum, so it's possible there is just not much data to go on. Or maybe these combinations are fantastic and just waiting to be discovered? "
   ]
  },
  {
   "cell_type": "markdown",
   "id": "cbd935e3",
   "metadata": {},
   "source": [
    "## Which is the best glaze to pair with my favorite glaze?\n",
    "I will answer this question in two ways, first the glazes with the highest similarity to my favorite glaze and second the glazes with the highest predicted likes to my favorite glaze."
   ]
  },
  {
   "cell_type": "code",
   "execution_count": 42,
   "id": "4674a134",
   "metadata": {},
   "outputs": [],
   "source": [
    "favorite='Blue Midnight'\n",
    "results_fav = results_df[(results_df['glaze_1']==favorite)|(results_df['glaze_2']==favorite)]"
   ]
  },
  {
   "cell_type": "markdown",
   "id": "ed98019a",
   "metadata": {},
   "source": [
    "### Most similar"
   ]
  },
  {
   "cell_type": "code",
   "execution_count": 43,
   "id": "3e1f18c0",
   "metadata": {},
   "outputs": [
    {
     "data": {
      "text/html": [
       "<div>\n",
       "<style scoped>\n",
       "    .dataframe tbody tr th:only-of-type {\n",
       "        vertical-align: middle;\n",
       "    }\n",
       "\n",
       "    .dataframe tbody tr th {\n",
       "        vertical-align: top;\n",
       "    }\n",
       "\n",
       "    .dataframe thead th {\n",
       "        text-align: right;\n",
       "    }\n",
       "</style>\n",
       "<table border=\"1\" class=\"dataframe\">\n",
       "  <thead>\n",
       "    <tr style=\"text-align: right;\">\n",
       "      <th></th>\n",
       "      <th>glaze_1</th>\n",
       "      <th>glaze_2</th>\n",
       "      <th>similarity</th>\n",
       "      <th>frequency</th>\n",
       "      <th>avg_likes</th>\n",
       "      <th>predicted_likes</th>\n",
       "    </tr>\n",
       "  </thead>\n",
       "  <tbody>\n",
       "    <tr>\n",
       "      <th>262</th>\n",
       "      <td>Blue Midnight</td>\n",
       "      <td>Blue Rutile</td>\n",
       "      <td>0.473876</td>\n",
       "      <td>488.0</td>\n",
       "      <td>67.0</td>\n",
       "      <td>72.716033</td>\n",
       "    </tr>\n",
       "    <tr>\n",
       "      <th>278</th>\n",
       "      <td>Blue Midnight</td>\n",
       "      <td>Indigo Float</td>\n",
       "      <td>0.446096</td>\n",
       "      <td>414.0</td>\n",
       "      <td>80.0</td>\n",
       "      <td>70.815729</td>\n",
       "    </tr>\n",
       "    <tr>\n",
       "      <th>703</th>\n",
       "      <td>Blue Midnight</td>\n",
       "      <td>Seaweed</td>\n",
       "      <td>0.418336</td>\n",
       "      <td>465.0</td>\n",
       "      <td>79.0</td>\n",
       "      <td>71.865510</td>\n",
       "    </tr>\n",
       "    <tr>\n",
       "      <th>462</th>\n",
       "      <td>Blue Midnight</td>\n",
       "      <td>Oatmeal</td>\n",
       "      <td>0.407626</td>\n",
       "      <td>435.0</td>\n",
       "      <td>83.0</td>\n",
       "      <td>72.643243</td>\n",
       "    </tr>\n",
       "    <tr>\n",
       "      <th>335</th>\n",
       "      <td>Blue Midnight</td>\n",
       "      <td>Textured Turquoise</td>\n",
       "      <td>0.367083</td>\n",
       "      <td>405.0</td>\n",
       "      <td>92.0</td>\n",
       "      <td>72.448278</td>\n",
       "    </tr>\n",
       "    <tr>\n",
       "      <th>933</th>\n",
       "      <td>Blue Midnight</td>\n",
       "      <td>Smokey Merlot</td>\n",
       "      <td>0.326740</td>\n",
       "      <td>211.0</td>\n",
       "      <td>55.0</td>\n",
       "      <td>73.492591</td>\n",
       "    </tr>\n",
       "    <tr>\n",
       "      <th>480</th>\n",
       "      <td>Blue Midnight</td>\n",
       "      <td>Iron Lustre</td>\n",
       "      <td>0.310332</td>\n",
       "      <td>187.0</td>\n",
       "      <td>61.0</td>\n",
       "      <td>72.762308</td>\n",
       "    </tr>\n",
       "    <tr>\n",
       "      <th>902</th>\n",
       "      <td>Blue Midnight</td>\n",
       "      <td>Chun Plum</td>\n",
       "      <td>0.268521</td>\n",
       "      <td>132.0</td>\n",
       "      <td>82.0</td>\n",
       "      <td>75.598265</td>\n",
       "    </tr>\n",
       "    <tr>\n",
       "      <th>373</th>\n",
       "      <td>Blue Midnight</td>\n",
       "      <td>Tourmaline</td>\n",
       "      <td>0.261773</td>\n",
       "      <td>110.0</td>\n",
       "      <td>73.0</td>\n",
       "      <td>71.099049</td>\n",
       "    </tr>\n",
       "    <tr>\n",
       "      <th>502</th>\n",
       "      <td>Blue Midnight</td>\n",
       "      <td>Light Sepia</td>\n",
       "      <td>0.249096</td>\n",
       "      <td>92.0</td>\n",
       "      <td>82.0</td>\n",
       "      <td>74.132508</td>\n",
       "    </tr>\n",
       "  </tbody>\n",
       "</table>\n",
       "</div>"
      ],
      "text/plain": [
       "           glaze_1             glaze_2  similarity  frequency  avg_likes  \\\n",
       "262  Blue Midnight         Blue Rutile    0.473876      488.0       67.0   \n",
       "278  Blue Midnight        Indigo Float    0.446096      414.0       80.0   \n",
       "703  Blue Midnight             Seaweed    0.418336      465.0       79.0   \n",
       "462  Blue Midnight             Oatmeal    0.407626      435.0       83.0   \n",
       "335  Blue Midnight  Textured Turquoise    0.367083      405.0       92.0   \n",
       "933  Blue Midnight       Smokey Merlot    0.326740      211.0       55.0   \n",
       "480  Blue Midnight         Iron Lustre    0.310332      187.0       61.0   \n",
       "902  Blue Midnight           Chun Plum    0.268521      132.0       82.0   \n",
       "373  Blue Midnight          Tourmaline    0.261773      110.0       73.0   \n",
       "502  Blue Midnight         Light Sepia    0.249096       92.0       82.0   \n",
       "\n",
       "     predicted_likes  \n",
       "262        72.716033  \n",
       "278        70.815729  \n",
       "703        71.865510  \n",
       "462        72.643243  \n",
       "335        72.448278  \n",
       "933        73.492591  \n",
       "480        72.762308  \n",
       "902        75.598265  \n",
       "373        71.099049  \n",
       "502        74.132508  "
      ]
     },
     "execution_count": 43,
     "metadata": {},
     "output_type": "execute_result"
    }
   ],
   "source": [
    "results_fav.sort_values('similarity',ascending=False).head(10)"
   ]
  },
  {
   "cell_type": "markdown",
   "id": "58065c38",
   "metadata": {},
   "source": [
    "### Higest predicted likes"
   ]
  },
  {
   "cell_type": "code",
   "execution_count": 44,
   "id": "8ced924c",
   "metadata": {},
   "outputs": [
    {
     "data": {
      "text/html": [
       "<div>\n",
       "<style scoped>\n",
       "    .dataframe tbody tr th:only-of-type {\n",
       "        vertical-align: middle;\n",
       "    }\n",
       "\n",
       "    .dataframe tbody tr th {\n",
       "        vertical-align: top;\n",
       "    }\n",
       "\n",
       "    .dataframe thead th {\n",
       "        text-align: right;\n",
       "    }\n",
       "</style>\n",
       "<table border=\"1\" class=\"dataframe\">\n",
       "  <thead>\n",
       "    <tr style=\"text-align: right;\">\n",
       "      <th></th>\n",
       "      <th>glaze_1</th>\n",
       "      <th>glaze_2</th>\n",
       "      <th>similarity</th>\n",
       "      <th>frequency</th>\n",
       "      <th>avg_likes</th>\n",
       "      <th>predicted_likes</th>\n",
       "    </tr>\n",
       "  </thead>\n",
       "  <tbody>\n",
       "    <tr>\n",
       "      <th>1802</th>\n",
       "      <td>Blue Midnight</td>\n",
       "      <td>Stoned Denim</td>\n",
       "      <td>0.061033</td>\n",
       "      <td>2.0</td>\n",
       "      <td>8.0</td>\n",
       "      <td>83.557970</td>\n",
       "    </tr>\n",
       "    <tr>\n",
       "      <th>1877</th>\n",
       "      <td>Blue Midnight</td>\n",
       "      <td>Winter Wood</td>\n",
       "      <td>0.100219</td>\n",
       "      <td>17.0</td>\n",
       "      <td>126.0</td>\n",
       "      <td>76.927727</td>\n",
       "    </tr>\n",
       "    <tr>\n",
       "      <th>1148</th>\n",
       "      <td>Blue Midnight</td>\n",
       "      <td>River Rock</td>\n",
       "      <td>0.108687</td>\n",
       "      <td>29.0</td>\n",
       "      <td>83.0</td>\n",
       "      <td>76.724152</td>\n",
       "    </tr>\n",
       "    <tr>\n",
       "      <th>902</th>\n",
       "      <td>Blue Midnight</td>\n",
       "      <td>Chun Plum</td>\n",
       "      <td>0.268521</td>\n",
       "      <td>132.0</td>\n",
       "      <td>82.0</td>\n",
       "      <td>75.598265</td>\n",
       "    </tr>\n",
       "    <tr>\n",
       "      <th>208</th>\n",
       "      <td>Blue Midnight</td>\n",
       "      <td>Satin Oribe</td>\n",
       "      <td>0.068339</td>\n",
       "      <td>9.0</td>\n",
       "      <td>141.0</td>\n",
       "      <td>75.547122</td>\n",
       "    </tr>\n",
       "    <tr>\n",
       "      <th>853</th>\n",
       "      <td>Blue Midnight</td>\n",
       "      <td>Emerald Falls</td>\n",
       "      <td>0.179462</td>\n",
       "      <td>50.0</td>\n",
       "      <td>145.0</td>\n",
       "      <td>75.281648</td>\n",
       "    </tr>\n",
       "    <tr>\n",
       "      <th>831</th>\n",
       "      <td>Blue Midnight</td>\n",
       "      <td>Lustrous Jade</td>\n",
       "      <td>0.181437</td>\n",
       "      <td>83.0</td>\n",
       "      <td>87.0</td>\n",
       "      <td>74.861492</td>\n",
       "    </tr>\n",
       "    <tr>\n",
       "      <th>542</th>\n",
       "      <td>Blue Midnight</td>\n",
       "      <td>Iron Yellow</td>\n",
       "      <td>0.123544</td>\n",
       "      <td>38.0</td>\n",
       "      <td>121.0</td>\n",
       "      <td>74.621123</td>\n",
       "    </tr>\n",
       "    <tr>\n",
       "      <th>1066</th>\n",
       "      <td>Blue Midnight</td>\n",
       "      <td>Textured Amber Brown</td>\n",
       "      <td>0.091311</td>\n",
       "      <td>27.0</td>\n",
       "      <td>64.0</td>\n",
       "      <td>74.534716</td>\n",
       "    </tr>\n",
       "    <tr>\n",
       "      <th>969</th>\n",
       "      <td>Blue Midnight</td>\n",
       "      <td>Deep Firebrick</td>\n",
       "      <td>0.215091</td>\n",
       "      <td>93.0</td>\n",
       "      <td>98.0</td>\n",
       "      <td>74.529898</td>\n",
       "    </tr>\n",
       "  </tbody>\n",
       "</table>\n",
       "</div>"
      ],
      "text/plain": [
       "            glaze_1               glaze_2  similarity  frequency  avg_likes  \\\n",
       "1802  Blue Midnight          Stoned Denim    0.061033        2.0        8.0   \n",
       "1877  Blue Midnight           Winter Wood    0.100219       17.0      126.0   \n",
       "1148  Blue Midnight            River Rock    0.108687       29.0       83.0   \n",
       "902   Blue Midnight             Chun Plum    0.268521      132.0       82.0   \n",
       "208   Blue Midnight           Satin Oribe    0.068339        9.0      141.0   \n",
       "853   Blue Midnight         Emerald Falls    0.179462       50.0      145.0   \n",
       "831   Blue Midnight         Lustrous Jade    0.181437       83.0       87.0   \n",
       "542   Blue Midnight           Iron Yellow    0.123544       38.0      121.0   \n",
       "1066  Blue Midnight  Textured Amber Brown    0.091311       27.0       64.0   \n",
       "969   Blue Midnight        Deep Firebrick    0.215091       93.0       98.0   \n",
       "\n",
       "      predicted_likes  \n",
       "1802        83.557970  \n",
       "1877        76.927727  \n",
       "1148        76.724152  \n",
       "902         75.598265  \n",
       "208         75.547122  \n",
       "853         75.281648  \n",
       "831         74.861492  \n",
       "542         74.621123  \n",
       "1066        74.534716  \n",
       "969         74.529898  "
      ]
     },
     "execution_count": 44,
     "metadata": {},
     "output_type": "execute_result"
    }
   ],
   "source": [
    "results_fav.sort_values('predicted_likes',ascending=False).head(10)"
   ]
  },
  {
   "cell_type": "markdown",
   "id": "c2b95649",
   "metadata": {},
   "source": [
    "Similarity in this case means they are often paired with the same glazes. It makes sense to look at glazes in this fashion because similar glazes will have similar chemical reaction when combine. I am familar with all the combinations on the similarity list and I know they look stunning together. \n",
    "\n",
    "Yet again Ice makes a top appearance on our predicted likes list. Ice, poppy and downpour are all a type of glaze that I don't think combine particularly well, so I don't trust the results very much here."
   ]
  },
  {
   "cell_type": "markdown",
   "id": "5c43b04a",
   "metadata": {},
   "source": [
    "# If I were to buy a new glaze, which would pair the best with my current set of glazes?\n",
    "I will answer this question in two ways, first the glazes with the highest similarity to my favorite glaze and second the glazes with the highest predicted likes to my favorite glaze."
   ]
  },
  {
   "cell_type": "code",
   "execution_count": 45,
   "id": "386c6bd0",
   "metadata": {},
   "outputs": [],
   "source": [
    "includes_one = results_df[results_df['glaze_2'].isin(glazes_owned)*1 + results_df['glaze_1'].isin(glazes_owned)*1 ==1]"
   ]
  },
  {
   "cell_type": "markdown",
   "id": "d0ae9001",
   "metadata": {},
   "source": [
    "## Average similarity"
   ]
  },
  {
   "cell_type": "code",
   "execution_count": 46,
   "id": "379eb1fa",
   "metadata": {},
   "outputs": [
    {
     "data": {
      "text/plain": [
       "Indigo Float            0.236760\n",
       "Blue Rutile             0.234637\n",
       "True Celadon            0.164994\n",
       "Iron Lustre             0.149731\n",
       "Chun Plum               0.138294\n",
       "Textured Turquoise      0.124909\n",
       "Honey Flux              0.124207\n",
       "Textured Amber Brown    0.122984\n",
       "Textured Amber          0.121983\n",
       "Palladium               0.117657\n",
       "Name: similarity, dtype: float64"
      ]
     },
     "execution_count": 46,
     "metadata": {},
     "output_type": "execute_result"
    }
   ],
   "source": [
    "sim_combo_ratings = ((includes_one.groupby('glaze_2')['similarity'].sum() + includes_one.groupby('glaze_1')['similarity'].sum())/len(glazes_owned)).sort_values(ascending=False)\n",
    "top_unowned_sim = sim_combo_ratings.loc[set(sim_combo_ratings.index) - set(glazes_owned)].sort_values(ascending=False)\n",
    "top_unowned_sim.head(10)"
   ]
  },
  {
   "cell_type": "markdown",
   "id": "2a914013",
   "metadata": {},
   "source": [
    "## Average predicted likes"
   ]
  },
  {
   "cell_type": "code",
   "execution_count": 47,
   "id": "c320fd00",
   "metadata": {},
   "outputs": [
    {
     "data": {
      "text/plain": [
       "Stoned Denim            128.615688\n",
       "Teal Satin Matte         73.215595\n",
       "Vintage Gold             71.273903\n",
       "White Satin Matte        69.141399\n",
       "Textured Amber           68.057207\n",
       "Textured Amber Brown     68.044814\n",
       "River Rock               62.776767\n",
       "Blue Stone               62.424585\n",
       "Red Satin Matte          57.149799\n",
       "Iron Yellow              49.994896\n",
       "Name: predicted_likes, dtype: float64"
      ]
     },
     "execution_count": 47,
     "metadata": {},
     "output_type": "execute_result"
    }
   ],
   "source": [
    "mean_combo_ratings = ((includes_one.groupby('glaze_2')['predicted_likes'].sum() + includes_one.groupby('glaze_1')['predicted_likes'].sum())/len(glazes_owned)).sort_values(ascending=False)\n",
    "top_unowned_likes = mean_combo_ratings.loc[set(mean_combo_ratings.index) - set(glazes_owned)].sort_values(ascending=False)\n",
    "top_unowned_likes.head(10)"
   ]
  },
  {
   "cell_type": "markdown",
   "id": "1ae2d489",
   "metadata": {},
   "source": [
    "According to my predictions, Blue Rutile or Stoned Denim should pair best with my currently owned glazes. The listed create dby similarity and th elist created with predicted likes are mutually exclusive. The predicted likes surfaces many more glazes that are rarely posted. The Similarity list surfaces quite popular glazes. "
   ]
  }
 ],
 "metadata": {
  "kernelspec": {
   "display_name": "Python 3 (ipykernel)",
   "language": "python",
   "name": "python3"
  },
  "language_info": {
   "codemirror_mode": {
    "name": "ipython",
    "version": 3
   },
   "file_extension": ".py",
   "mimetype": "text/x-python",
   "name": "python",
   "nbconvert_exporter": "python",
   "pygments_lexer": "ipython3",
   "version": "3.9.7"
  }
 },
 "nbformat": 4,
 "nbformat_minor": 5
}
